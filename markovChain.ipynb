{
 "cells": [
  {
   "cell_type": "code",
   "execution_count": null,
   "metadata": {},
   "outputs": [],
   "source": [
    "import markovify \n",
    "\n",
    "\n",
    "# markov = MarkovText()\n",
    "index = []\n",
    "\n",
    "def getChain():\n",
    "    with open('quotes.txt', encoding='utf-8') as fp:\n",
    "        for line in fp:\n",
    "            if (line[0]).isalpha():\n",
    "                index.append(line)\n",
    "    # Build the model.\n",
    "    text_model = markovify.Text(index)\n",
    "    return text_model\n",
    "\n",
    "# # # Print five randomly-generated sentences\n",
    "def generate(text_model):\n",
    "    return text_model.make_sentence()\n",
    "\n",
    "\n"
   ]
  }
 ],
 "metadata": {
  "kernelspec": {
   "display_name": "Python 3",
   "language": "python",
   "name": "python3"
  },
  "language_info": {
   "codemirror_mode": {
    "name": "ipython",
    "version": 3
   },
   "file_extension": ".py",
   "mimetype": "text/x-python",
   "name": "python",
   "nbconvert_exporter": "python",
   "pygments_lexer": "ipython3",
   "version": "3.6.5"
  }
 },
 "nbformat": 4,
 "nbformat_minor": 2
}
