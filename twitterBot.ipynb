{
 "cells": [
  {
   "cell_type": "code",
   "execution_count": 2,
   "metadata": {},
   "outputs": [
    {
     "name": "stdout",
     "output_type": "stream",
     "text": [
      "pygame 1.9.6\n",
      "Hello from the pygame community. https://www.pygame.org/contribute.html\n"
     ]
    }
   ],
   "source": [
    "import tweepy\n",
    "import random\n",
    "import markovChain\n",
    "import imageGenerate\n",
    "from PIL import Image\n",
    "from resizeimage import resizeimage\n",
    "import time"
   ]
  },
  {
   "cell_type": "code",
   "execution_count": 3,
   "metadata": {},
   "outputs": [
    {
     "name": "stdout",
     "output_type": "stream",
     "text": [
      "This is my twitter bot\n",
      "Training images/einstein.jpg\n",
      "0% [################################################################] 100% | ETA: 00:00:00\n",
      "Total time elapsed: 00:00:02\n",
      "\n",
      "Generating\n",
      "0% [################################################################] 100% | ETA: 00:00:00\n",
      "Total time elapsed: 00:01:14\n",
      "Training images/mlk.jpg\n",
      "0% [################################################################] 100% | ETA: 00:00:00\n",
      "Total time elapsed: 00:00:13\n",
      "\n",
      "Generating\n",
      "0% [############################################################    ] 100% | ETA: 00:00:04"
     ]
    },
    {
     "ename": "KeyboardInterrupt",
     "evalue": "",
     "output_type": "error",
     "traceback": [
      "\u001b[1;31m---------------------------------------------------------------------------\u001b[0m",
      "\u001b[1;31mKeyboardInterrupt\u001b[0m                         Traceback (most recent call last)",
      "\u001b[1;32m<ipython-input-3-856f13ce1bfe>\u001b[0m in \u001b[0;36m<module>\u001b[1;34m\u001b[0m\n\u001b[0;32m     35\u001b[0m     \u001b[0mnew_status\u001b[0m \u001b[1;33m=\u001b[0m \u001b[0mmarkovChain\u001b[0m\u001b[1;33m.\u001b[0m\u001b[0mgenerate\u001b[0m\u001b[1;33m(\u001b[0m\u001b[0mtext_model\u001b[0m\u001b[1;33m)\u001b[0m\u001b[1;33m\u001b[0m\u001b[0m\n\u001b[0;32m     36\u001b[0m     \u001b[0mimg_loc\u001b[0m \u001b[1;33m=\u001b[0m \u001b[1;34m\"images/\"\u001b[0m\u001b[1;33m+\u001b[0m\u001b[0mstr\u001b[0m\u001b[1;33m(\u001b[0m\u001b[0minfluencers\u001b[0m\u001b[1;33m[\u001b[0m\u001b[0mrand\u001b[0m\u001b[1;33m]\u001b[0m\u001b[1;33m)\u001b[0m\u001b[1;33m\u001b[0m\u001b[0m\n\u001b[1;32m---> 37\u001b[1;33m     \u001b[0mimageGenerate\u001b[0m\u001b[1;33m.\u001b[0m\u001b[0mgenerateImg\u001b[0m\u001b[1;33m(\u001b[0m\u001b[0mimg_loc\u001b[0m\u001b[1;33m)\u001b[0m\u001b[1;33m\u001b[0m\u001b[0m\n\u001b[0m\u001b[0;32m     38\u001b[0m \u001b[1;33m\u001b[0m\u001b[0m\n\u001b[0;32m     39\u001b[0m     \u001b[0mimage1\u001b[0m \u001b[1;33m=\u001b[0m \u001b[0mImage\u001b[0m\u001b[1;33m.\u001b[0m\u001b[0mopen\u001b[0m\u001b[1;33m(\u001b[0m\u001b[1;34m'new_img.png'\u001b[0m\u001b[1;33m)\u001b[0m\u001b[1;33m\u001b[0m\u001b[0m\n",
      "\u001b[1;32m~\\Desktop\\Desktop\\Spring 2019\\COEN 166\\TwitterBot\\imageGenerate.py\u001b[0m in \u001b[0;36mgenerateImg\u001b[1;34m(fname)\u001b[0m\n\u001b[0;32m    186\u001b[0m \u001b[1;31m#     print chain.weights\u001b[0m\u001b[1;33m\u001b[0m\u001b[1;33m\u001b[0m\u001b[0m\n\u001b[0;32m    187\u001b[0m     \u001b[0mprint\u001b[0m\u001b[1;33m(\u001b[0m\u001b[1;34m\"\\nGenerating\"\u001b[0m\u001b[1;33m)\u001b[0m\u001b[1;33m\u001b[0m\u001b[0m\n\u001b[1;32m--> 188\u001b[1;33m     \u001b[0mnew_img\u001b[0m \u001b[1;33m=\u001b[0m \u001b[0mchain\u001b[0m\u001b[1;33m.\u001b[0m\u001b[0mgenerate\u001b[0m\u001b[1;33m(\u001b[0m\u001b[1;33m)\u001b[0m\u001b[1;33m\u001b[0m\u001b[0m\n\u001b[0m\u001b[0;32m    189\u001b[0m     \u001b[0mnew_img\u001b[0m\u001b[1;33m.\u001b[0m\u001b[0msave\u001b[0m\u001b[1;33m(\u001b[0m\u001b[1;34m\"new_img.png\"\u001b[0m\u001b[1;33m,\u001b[0m\u001b[1;34m\"PNG\"\u001b[0m\u001b[1;33m)\u001b[0m\u001b[1;33m\u001b[0m\u001b[0m\n\u001b[0;32m    190\u001b[0m \u001b[1;33m\u001b[0m\u001b[0m\n",
      "\u001b[1;32m~\\Desktop\\Desktop\\Spring 2019\\COEN 166\\TwitterBot\\imageGenerate.py\u001b[0m in \u001b[0;36mgenerate\u001b[1;34m(self, initial_state, width, height)\u001b[0m\n\u001b[0;32m    163\u001b[0m                             \u001b[0mimg\u001b[0m\u001b[1;33m[\u001b[0m\u001b[0mneighbour\u001b[0m\u001b[1;33m]\u001b[0m \u001b[1;33m=\u001b[0m \u001b[0mkeys\u001b[0m\u001b[1;33m[\u001b[0m\u001b[0mdirection\u001b[0m\u001b[1;33m]\u001b[0m\u001b[1;33m[\u001b[0m\u001b[0mcol_idx\u001b[0m\u001b[1;33m]\u001b[0m\u001b[1;33m\u001b[0m\u001b[0m\n\u001b[0;32m    164\u001b[0m                     \u001b[1;32melse\u001b[0m\u001b[1;33m:\u001b[0m\u001b[1;33m\u001b[0m\u001b[0m\n\u001b[1;32m--> 165\u001b[1;33m                         \u001b[0mcol_idx\u001b[0m \u001b[1;33m=\u001b[0m \u001b[0mnp\u001b[0m\u001b[1;33m.\u001b[0m\u001b[0mrandom\u001b[0m\u001b[1;33m.\u001b[0m\u001b[0mchoice\u001b[0m\u001b[1;33m(\u001b[0m\u001b[0mkey_idxs\u001b[0m\u001b[1;33m,\u001b[0m \u001b[0mp\u001b[0m\u001b[1;33m=\u001b[0m\u001b[0mps\u001b[0m\u001b[1;33m)\u001b[0m\u001b[1;33m\u001b[0m\u001b[0m\n\u001b[0m\u001b[0;32m    166\u001b[0m                         \u001b[1;32mif\u001b[0m \u001b[0mneighbour\u001b[0m \u001b[1;32mnot\u001b[0m \u001b[1;32min\u001b[0m \u001b[0mcoloured\u001b[0m\u001b[1;33m:\u001b[0m\u001b[1;33m\u001b[0m\u001b[0m\n\u001b[0;32m    167\u001b[0m                             \u001b[0mimg\u001b[0m\u001b[1;33m[\u001b[0m\u001b[0mneighbour\u001b[0m\u001b[1;33m]\u001b[0m \u001b[1;33m=\u001b[0m \u001b[0mkeys\u001b[0m\u001b[1;33m[\u001b[0m\u001b[0mcol_idx\u001b[0m\u001b[1;33m]\u001b[0m\u001b[1;33m\u001b[0m\u001b[0m\n",
      "\u001b[1;31mKeyboardInterrupt\u001b[0m: "
     ]
    }
   ],
   "source": [
    "\n",
    "\n",
    "# Do a full import\n",
    "# import ipynb.fs.defs.imageGenerator\n",
    "\n",
    "# Do a definitions-only import\n",
    "# from .defs.notebook1 import bar\n",
    "\n",
    "# from TwitterBot.imageGenerator import generateImg\n",
    "\n",
    "print(\"This is my twitter bot\") \n",
    "\n",
    "CONSUMER_KEY = 'xBrF3oxTPbHZ3MBNUTb44pxfr'\n",
    "CONSUMER_SECRET = 'j3aSNqKo6vEEAbKIgyEUKieTEiCQ7aQr4Hf5gpPsYzqnAgWmzE'\n",
    "ACCESS_KEY = '930213357008822272-atSpInyEz33mRFBdNSS9gHkxqRNpwt7'\n",
    "ACCESS_SECRET = 'yt6j7L9iDtXJwfyC8Rwx5JwqSFdBoxwrlzlTrJqnZ0MLM'\n",
    "\n",
    "auth = tweepy.OAuthHandler(CONSUMER_KEY, CONSUMER_SECRET)\n",
    "auth.set_access_token(ACCESS_KEY, ACCESS_SECRET)\n",
    "api = tweepy.API(auth) #api object used to read and write data into Twitter\n",
    "\n",
    "mentions = api.mentions_timeline()\n",
    "\n",
    "# for mention in mentions:\n",
    "# \tprint(str(mention.id) + \" - \" + mention.text)\n",
    "# \tif('#hi' in mention.text):\n",
    "# \t\tprint('Found hi')\n",
    "# \t\tprint('responding back')\n",
    "\n",
    "text_model = markovChain.getChain()\n",
    "\n",
    "influencers = ['einstein.jpg','aristotle.jpg','mlk.jpg','socrates.jpg','trump.jpg','obama.jpg','franklin.jpg','plato.jpg','gates.jpg']\n",
    "while 1:\n",
    "    rand = random.randint(0,len(influencers)-1)\n",
    "    new_status = markovChain.generate(text_model)\n",
    "    img_loc = \"images/\"+str(influencers[rand])\n",
    "    imageGenerate.generateImg(img_loc)\n",
    "    \n",
    "    image1 = Image.open('new_img.png')\n",
    "    \n",
    "    image2 = Image.open(img_loc)\n",
    "    resize_img = resizeimage.resize_contain(image2, [340, 340])\n",
    "    \n",
    "\n",
    "    background = Image.new('RGB', (1024,512))\n",
    "    \n",
    "    background.paste(image1, (0,0))\n",
    "    background.paste(image1, (512,0))\n",
    "    background.paste(resize_img, (342,86))\n",
    "    \n",
    "    background.save('toPost.jpg')\n",
    "\n",
    "    api.update_with_media('toPost.jpg',status=new_status)\n",
    "#     time.sleep()"
   ]
  }
 ],
 "metadata": {
  "kernelspec": {
   "display_name": "Python 3",
   "language": "python",
   "name": "python3"
  },
  "language_info": {
   "codemirror_mode": {
    "name": "ipython",
    "version": 3
   },
   "file_extension": ".py",
   "mimetype": "text/x-python",
   "name": "python",
   "nbconvert_exporter": "python",
   "pygments_lexer": "ipython3",
   "version": "3.6.5"
  }
 },
 "nbformat": 4,
 "nbformat_minor": 2
}
